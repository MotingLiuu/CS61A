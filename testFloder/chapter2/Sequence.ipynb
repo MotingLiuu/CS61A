{
 "cells": [
  {
   "cell_type": "markdown",
   "metadata": {},
   "source": [
    "# Tree"
   ]
  },
  {
   "cell_type": "code",
   "execution_count": 1,
   "metadata": {},
   "outputs": [],
   "source": [
    "def tree(root_label, branches = []):\n",
    "    for branch in branches:\n",
    "        assert is_tree(branch), 'branches must be trees'\n",
    "    return [root_label] + list(branches)\n",
    "\n",
    "def label(tree):\n",
    "    return tree[0]\n",
    "\n",
    "def branches(tree):\n",
    "    return tree[1:]\n",
    "\n",
    "def is_tree(tree):\n",
    "    if type(tree) != list or len(tree) < 1:\n",
    "        return False\n",
    "    for branch in branches(tree):\n",
    "        if not is_tree(branch):\n",
    "            return False\n",
    "    return True\n",
    "    \n",
    "def is_leaf(tree):\n",
    "    return not branches(tree)"
   ]
  },
  {
   "cell_type": "markdown",
   "metadata": {},
   "source": [
    "## Fibonacci tree"
   ]
  },
  {
   "cell_type": "code",
   "execution_count": 2,
   "metadata": {},
   "outputs": [],
   "source": [
    "def fib_tree(n):\n",
    "    if n == 0 or n == 1:\n",
    "        return tree(n)\n",
    "    else:\n",
    "        left, right = fib_tree(n - 2), fib_tree(n - 1)\n",
    "        fib_n = label(left) + label(right)\n",
    "        return tree(fib_n, [left, right])"
   ]
  },
  {
   "cell_type": "code",
   "execution_count": 4,
   "metadata": {},
   "outputs": [
    {
     "data": {
      "text/plain": [
       "[5, [2, [1], [1, [0], [1]]], [3, [1, [0], [1]], [2, [1], [1, [0], [1]]]]]"
      ]
     },
     "execution_count": 4,
     "metadata": {},
     "output_type": "execute_result"
    }
   ],
   "source": [
    "fib_tree(5)"
   ]
  },
  {
   "cell_type": "code",
   "execution_count": 5,
   "metadata": {},
   "outputs": [],
   "source": [
    "def count_leaves(tree):\n",
    "    if is_leaf(tree):\n",
    "        return 1\n",
    "    else:\n",
    "        branch_counts = [count_leaves(b) for b in branches(tree)]\n",
    "        return sum(branch_counts)"
   ]
  },
  {
   "cell_type": "code",
   "execution_count": 6,
   "metadata": {},
   "outputs": [
    {
     "data": {
      "text/plain": [
       "8"
      ]
     },
     "execution_count": 6,
     "metadata": {},
     "output_type": "execute_result"
    }
   ],
   "source": [
    "count_leaves(fib_tree(5))"
   ]
  },
  {
   "cell_type": "code",
   "execution_count": 7,
   "metadata": {},
   "outputs": [],
   "source": [
    "def partition_tree(n, m):\n",
    "    if n == 0:\n",
    "        return tree(True)\n",
    "    elif n < 0 or m == 0:\n",
    "        return tree(False)\n",
    "    else:\n",
    "        left = partition_tree(n - m, m)\n",
    "        right = partition_tree(n, m - 1)\n",
    "        return tree(m, [left, right])"
   ]
  },
  {
   "cell_type": "code",
   "execution_count": 20,
   "metadata": {},
   "outputs": [
    {
     "data": {
      "text/plain": [
       "[2, [True], [1, [1, [True], [False]], [False]]]"
      ]
     },
     "execution_count": 20,
     "metadata": {},
     "output_type": "execute_result"
    }
   ],
   "source": [
    "partition_tree(2, 2)"
   ]
  },
  {
   "cell_type": "code",
   "execution_count": 10,
   "metadata": {},
   "outputs": [],
   "source": [
    "def print_parts(tree, partition = []):\n",
    "    if is_leaf(tree):\n",
    "        if label(tree):\n",
    "            print('+'.join(partition))\n",
    "        else:\n",
    "            left, right = branches(tree)\n",
    "            m = str(label(tree))\n",
    "            print_parts(left, partition + [m])\n",
    "            print_parts(right, partition)"
   ]
  },
  {
   "cell_type": "code",
   "execution_count": 25,
   "metadata": {},
   "outputs": [],
   "source": [
    "def right_binarize(tree):\n",
    "    if is_leaf(tree):\n",
    "        return tree\n",
    "    if len(tree) == 2:\n",
    "        return tree\n",
    "    if len(tree) > 2:\n",
    "        return [label(tree), right_binarize(tree[1:])]"
   ]
  },
  {
   "cell_type": "code",
   "execution_count": 24,
   "metadata": {},
   "outputs": [
    {
     "data": {
      "text/plain": [
       "[1, [2, [3, [4, [5, [6, 7]]]]]]"
      ]
     },
     "execution_count": 24,
     "metadata": {},
     "output_type": "execute_result"
    }
   ],
   "source": [
    "right_binarize([1, 2, 3, 4, 5, 6, 7])"
   ]
  },
  {
   "cell_type": "markdown",
   "metadata": {},
   "source": [
    "# Linked List"
   ]
  },
  {
   "cell_type": "code",
   "execution_count": 27,
   "metadata": {},
   "outputs": [],
   "source": [
    "empty = 'empty'\n",
    "\n",
    "def is_link(s):\n",
    "    return s == empty or (len(s) == 2 and is_link(s[1]))\n",
    "\n",
    "def link(first, rest):\n",
    "    assert is_link(rest), 'rest must be a linked list'\n",
    "    return [first, rest]\n",
    "\n",
    "def first(s):\n",
    "    assert is_link(s), 'first only applies to linked lists'\n",
    "    assert s != empty, 'empty linked list has no first element'\n",
    "    return s[0]\n",
    "\n",
    "def rest(s):\n",
    "    assert is_link(s), 'rest only applies to linked lists'\n",
    "    assert s != empty, 'empty linked list has no rest'\n",
    "    return s[1]"
   ]
  },
  {
   "cell_type": "code",
   "execution_count": 29,
   "metadata": {},
   "outputs": [],
   "source": [
    "def len_link(s):\n",
    "    length = 0\n",
    "    while s != empty:\n",
    "        s, length = rest(s), length + 1\n",
    "    return length\n",
    "\n",
    "def getitem_link(s, i):\n",
    "    while i > 0:\n",
    "        s, i = rest(s), i - 1\n",
    "    return first(s)\n",
    "\n",
    "def len_link_recursive(s):\n",
    "    if s == empty:\n",
    "        return 0\n",
    "    else:\n",
    "        return 1 + len_link_recursive(s[1])\n",
    "    \n",
    "def getitem_link_recursive(s, i):\n",
    "    if i == 0:\n",
    "        return first(s)\n",
    "    return getitem_link_recursive(rest(s), i - 1)"
   ]
  },
  {
   "cell_type": "code",
   "execution_count": null,
   "metadata": {},
   "outputs": [],
   "source": []
  }
 ],
 "metadata": {
  "kernelspec": {
   "display_name": "base",
   "language": "python",
   "name": "python3"
  },
  "language_info": {
   "codemirror_mode": {
    "name": "ipython",
    "version": 3
   },
   "file_extension": ".py",
   "mimetype": "text/x-python",
   "name": "python",
   "nbconvert_exporter": "python",
   "pygments_lexer": "ipython3",
   "version": "3.12.2"
  }
 },
 "nbformat": 4,
 "nbformat_minor": 2
}
