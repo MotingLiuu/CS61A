{
 "cells": [
  {
   "cell_type": "code",
   "execution_count": 1,
   "metadata": {},
   "outputs": [
    {
     "name": "stdout",
     "output_type": "stream",
     "text": [
      "x in f2 is 20\n",
      "x in f1 is 20\n",
      "Global x: 5\n"
     ]
    }
   ],
   "source": [
    "def f1():\n",
    "    x = 10\n",
    "    \n",
    "    def f2():\n",
    "        nonlocal x\n",
    "        x = 20\n",
    "        print('x in f2 is', x)\n",
    "    \n",
    "    f2()\n",
    "    print('x in f1 is', x)\n",
    "\n",
    "x = 5\n",
    "f1()\n",
    "print('Global x:', x)"
   ]
  },
  {
   "cell_type": "code",
   "execution_count": 7,
   "metadata": {},
   "outputs": [
    {
     "data": {
      "text/plain": [
       "15"
      ]
     },
     "execution_count": 7,
     "metadata": {},
     "output_type": "execute_result"
    }
   ],
   "source": [
    "def make_withdraw(balance):\n",
    "    def withdraw(amount):\n",
    "        nonlocal balance\n",
    "        if amount > balance:\n",
    "            return 'Insufficient funds'\n",
    "        balance = balance - amount\n",
    "        return balance\n",
    "    return withdraw\n",
    "\n",
    "wd = make_withdraw(20)\n",
    "wd(5)"
   ]
  },
  {
   "cell_type": "code",
   "execution_count": 2,
   "metadata": {},
   "outputs": [
    {
     "name": "stdout",
     "output_type": "stream",
     "text": [
      "x in f2 is 20\n",
      "x in f1 is 10\n",
      "Global x: 5\n"
     ]
    }
   ],
   "source": [
    "def f1():\n",
    "    x = 10\n",
    "    \n",
    "    def f2():\n",
    "        x = 20\n",
    "        print('x in f2 is', x)\n",
    "    \n",
    "    f2()\n",
    "    print('x in f1 is', x)\n",
    "\n",
    "x = 5\n",
    "f1()\n",
    "print('Global x:', x)"
   ]
  },
  {
   "cell_type": "code",
   "execution_count": 5,
   "metadata": {},
   "outputs": [
    {
     "name": "stdout",
     "output_type": "stream",
     "text": [
      "x in f2 is 10\n",
      "x in f1 is 10\n",
      "Global x: 5\n"
     ]
    }
   ],
   "source": [
    "def f1():\n",
    "    x = 10\n",
    "    \n",
    "    def f2():\n",
    "        \n",
    "        print('x in f2 is', x)\n",
    "    \n",
    "    f2()\n",
    "    print('x in f1 is', x)\n",
    "\n",
    "x = 5\n",
    "f1()\n",
    "print('Global x:', x)"
   ]
  },
  {
   "cell_type": "code",
   "execution_count": 1,
   "metadata": {},
   "outputs": [],
   "source": [
    "def dictionary():\n",
    "    \n",
    "    records = []\n",
    "    def getitem(key):\n",
    "        matches = [r for r in records if r[0] == key]\n",
    "        if len(matches) == 1:\n",
    "            key, value = matches[0]\n",
    "            return value\n",
    "    def setitem(key, value):\n",
    "        nonlocal records\n",
    "        non_matches = [r for r in records if r[0] != key]\n",
    "        records = non_matches + [[key, value]]\n",
    "    def dispatch(message, key=None, value=None):\n",
    "        if message == 'getitem':\n",
    "            return getitem(key)\n",
    "        elif message == 'setitem':\n",
    "            setitem(key, value)\n",
    "    return dispatch"
   ]
  },
  {
   "cell_type": "code",
   "execution_count": 5,
   "metadata": {},
   "outputs": [],
   "source": [
    "my_dict = dictionary()"
   ]
  },
  {
   "cell_type": "code",
   "execution_count": 6,
   "metadata": {},
   "outputs": [],
   "source": [
    "my_dict('setitem', key='LIU', value=23)\n",
    "my_dict('setitem', key='WANG', value=21)"
   ]
  },
  {
   "cell_type": "code",
   "execution_count": 7,
   "metadata": {},
   "outputs": [
    {
     "data": {
      "text/plain": [
       "23"
      ]
     },
     "execution_count": 7,
     "metadata": {},
     "output_type": "execute_result"
    }
   ],
   "source": [
    "my_dict('getitem', key='LIU')"
   ]
  },
  {
   "cell_type": "code",
   "execution_count": 9,
   "metadata": {},
   "outputs": [],
   "source": [
    "def account(initial_balance):\n",
    "    def deposit(amount):\n",
    "        dispatch['balance'] += amount\n",
    "        return dispatch['balance']\n",
    "    def withdraw(amount):\n",
    "        if amount > dispatch['balance']:\n",
    "            return 'Insufficient funds'\n",
    "        dispatch['balance'] -= amount\n",
    "        return dispatch['balance']\n",
    "    dispatch = {'deposit': deposit,\n",
    "                'withdraw': withdraw,\n",
    "                'balance': initial_balance\n",
    "                }\n",
    "    return dispatch"
   ]
  },
  {
   "cell_type": "code",
   "execution_count": 10,
   "metadata": {},
   "outputs": [],
   "source": [
    "def withdraw(account, amount):\n",
    "    return account['withdraw'](amount)\n",
    "def deposit(account, amount):\n",
    "    return account['deposit'](amount)\n",
    "def check_balance(account):\n",
    "    return account['balance']"
   ]
  },
  {
   "cell_type": "code",
   "execution_count": 11,
   "metadata": {},
   "outputs": [
    {
     "data": {
      "text/plain": [
       "8"
      ]
     },
     "execution_count": 11,
     "metadata": {},
     "output_type": "execute_result"
    }
   ],
   "source": [
    "a = account(20)\n",
    "deposit(a, 5)\n",
    "withdraw(a, 17)\n",
    "check_balance(a)"
   ]
  },
  {
   "cell_type": "code",
   "execution_count": 1,
   "metadata": {},
   "outputs": [],
   "source": [
    "from operator import add, sub\n",
    "from operator import mul, truediv"
   ]
  },
  {
   "cell_type": "code",
   "execution_count": 2,
   "metadata": {},
   "outputs": [],
   "source": [
    "def make_ternary_constarint(a, b, c, ab, ca, cb):\n",
    "    '''The constraint that ab(a, b)=c and ca(c, a)=b and cb(c, b)=a'''\n",
    "    def new_value():\n",
    "        av, bv, cv = [connector['has_val']() for  connector in (a, b, c)]\n",
    "        if av and bv:\n",
    "            c['set_val'](constraint, ab(a['val'], b['val']))\n",
    "        elif av and cv:\n",
    "            b['set_val'](constraint, ca(c['val'], a['val']))\n",
    "        elif bv and cv:\n",
    "            a['set_val'](constraint, cb(c['val'], b['val']))\n",
    "    \n",
    "    def forget_value():\n",
    "        for connector in (a, b, c):\n",
    "            connector['forget'](constraint)\n",
    "    \n",
    "    constraint = {'new_val': new_value, 'forget': forget_value}\n",
    "    for connector in (a, b, c):\n",
    "        connector['connect'](constraint)\n",
    "    return constraint"
   ]
  },
  {
   "cell_type": "code",
   "execution_count": null,
   "metadata": {},
   "outputs": [],
   "source": [
    "def multiplier(a, b, c):\n",
    "    '''The constraint that a * b = c'''\n",
    "    return make_ternary_constarint(a, b, c, mul, truediv, truediv)\n",
    "def adder(a, b, c):\n",
    "    '''The constraint that a + b = c'''\n",
    "    return make_ternary_constarint(a, b, c, add, sub, sub)\n",
    "def constant(connector, value):\n",
    "    '''The constraint that connector = value'''\n",
    "    constraint = {}\n",
    "    connector['set_val'](constraint, value)\n",
    "    return constraint\n",
    "def inform_all_except(source, message, constraints):\n",
    "    '''inform all constraints of the message, expect source'''\n",
    "    for c in constraints:\n",
    "        if c != source:\n",
    "            c[message]()\n",
    "def connector(name=None):\n",
    "    '''A connector between constraints'''\n",
    "    informant = None\n",
    "    constraints = []\n",
    "    \n",
    "    def set_value(source, value):\n",
    "        nonlocal informant\n",
    "        val = connector['val']\n",
    "        if val is None:\n",
    "            informant, connector['val'] = source, value\n",
    "            if name is not None:\n",
    "                print(name, '=', value)\n",
    "            inform_all_except(source, 'new_val', constraints)\n",
    "        else:\n",
    "            if val != value:\n",
    "                print('Constradiction detected:', val, 'vs', value)\n",
    "    \n",
    "    def forget_value(source):\n",
    "        nonlocal informant\n",
    "        if informant == source:\n",
    "            informant, connector['val'] = None, None\n",
    "            if name is not None:\n",
    "                print(name, 'is forgotten')\n",
    "            inform_all_except(source, 'forget', constraints)\n",
    "    \n",
    "    connector = {'val':  None,\n",
    "                 'set_val':  set_value,\n",
    "                 'forget':  forget_value,\n",
    "                 'has_val': lambda: connector['val'] is not None,\n",
    "                 'connect': lambda source: constraints.append(source)\n",
    "                 }\n",
    "    return connector\n",
    "    \n",
    "celsius = connector('Celsius')\n",
    "fahrenheit = connector('Fahrenheit')\n",
    "\n",
    "def convert(c, f):\n",
    "    u, v, w, x, y = [connector() for _ in range(5)]\n",
    "    multiplier(c, w, u)\n",
    "    multiplier(v, x, u)\n",
    "    adder(v, y, f)\n",
    "    constant(w, 9)\n",
    "    constant(x, 5)\n",
    "    constant(y, 32)\n",
    "    \n",
    "convert(celsius, fahrenheit)"
   ]
  },
  {
   "cell_type": "code",
   "execution_count": 21,
   "metadata": {},
   "outputs": [
    {
     "name": "stdout",
     "output_type": "stream",
     "text": [
      "Celsius = 25\n",
      "Fahrenheit = 77.0\n"
     ]
    }
   ],
   "source": [
    "celsius['set_val']('user', 25)"
   ]
  }
 ],
 "metadata": {
  "kernelspec": {
   "display_name": "CS61A",
   "language": "python",
   "name": "python3"
  },
  "language_info": {
   "codemirror_mode": {
    "name": "ipython",
    "version": 3
   },
   "file_extension": ".py",
   "mimetype": "text/x-python",
   "name": "python",
   "nbconvert_exporter": "python",
   "pygments_lexer": "ipython3",
   "version": "3.7.12"
  }
 },
 "nbformat": 4,
 "nbformat_minor": 2
}
