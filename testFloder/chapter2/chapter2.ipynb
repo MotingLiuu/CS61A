{
 "cells": [
  {
   "cell_type": "code",
   "execution_count": 1,
   "metadata": {},
   "outputs": [
    {
     "name": "stdout",
     "output_type": "stream",
     "text": [
      "x in f2 is 20\n",
      "x in f1 is 20\n",
      "Global x: 5\n"
     ]
    }
   ],
   "source": [
    "def f1():\n",
    "    x = 10\n",
    "    \n",
    "    def f2():\n",
    "        nonlocal x\n",
    "        x = 20\n",
    "        print('x in f2 is', x)\n",
    "    \n",
    "    f2()\n",
    "    print('x in f1 is', x)\n",
    "\n",
    "x = 5\n",
    "f1()\n",
    "print('Global x:', x)"
   ]
  },
  {
   "cell_type": "code",
   "execution_count": 7,
   "metadata": {},
   "outputs": [
    {
     "data": {
      "text/plain": [
       "15"
      ]
     },
     "execution_count": 7,
     "metadata": {},
     "output_type": "execute_result"
    }
   ],
   "source": [
    "def make_withdraw(balance):\n",
    "    def withdraw(amount):\n",
    "        nonlocal balance\n",
    "        if amount > balance:\n",
    "            return 'Insufficient funds'\n",
    "        balance = balance - amount\n",
    "        return balance\n",
    "    return withdraw\n",
    "\n",
    "wd = make_withdraw(20)\n",
    "wd(5)"
   ]
  },
  {
   "cell_type": "code",
   "execution_count": 2,
   "metadata": {},
   "outputs": [
    {
     "name": "stdout",
     "output_type": "stream",
     "text": [
      "x in f2 is 20\n",
      "x in f1 is 10\n",
      "Global x: 5\n"
     ]
    }
   ],
   "source": [
    "def f1():\n",
    "    x = 10\n",
    "    \n",
    "    def f2():\n",
    "        x = 20\n",
    "        print('x in f2 is', x)\n",
    "    \n",
    "    f2()\n",
    "    print('x in f1 is', x)\n",
    "\n",
    "x = 5\n",
    "f1()\n",
    "print('Global x:', x)"
   ]
  },
  {
   "cell_type": "code",
   "execution_count": 5,
   "metadata": {},
   "outputs": [
    {
     "name": "stdout",
     "output_type": "stream",
     "text": [
      "x in f2 is 10\n",
      "x in f1 is 10\n",
      "Global x: 5\n"
     ]
    }
   ],
   "source": [
    "def f1():\n",
    "    x = 10\n",
    "    \n",
    "    def f2():\n",
    "        \n",
    "        print('x in f2 is', x)\n",
    "    \n",
    "    f2()\n",
    "    print('x in f1 is', x)\n",
    "\n",
    "x = 5\n",
    "f1()\n",
    "print('Global x:', x)"
   ]
  },
  {
   "cell_type": "code",
   "execution_count": 1,
   "metadata": {},
   "outputs": [],
   "source": [
    "def dictionary():\n",
    "    \n",
    "    records = []\n",
    "    def getitem(key):\n",
    "        matches = [r for r in records if r[0] == key]\n",
    "        if len(matches) == 1:\n",
    "            key, value = matches[0]\n",
    "            return value\n",
    "    def setitem(key, value):\n",
    "        nonlocal records\n",
    "        non_matches = [r for r in records if r[0] != key]\n",
    "        records = non_matches + [[key, value]]\n",
    "    def dispatch(message, key=None, value=None):\n",
    "        if message == 'getitem':\n",
    "            return getitem(key)\n",
    "        elif message == 'setitem':\n",
    "            setitem(key, value)\n",
    "    return dispatch"
   ]
  },
  {
   "cell_type": "code",
   "execution_count": 5,
   "metadata": {},
   "outputs": [],
   "source": [
    "my_dict = dictionary()"
   ]
  },
  {
   "cell_type": "code",
   "execution_count": 6,
   "metadata": {},
   "outputs": [],
   "source": [
    "my_dict('setitem', key='LIU', value=23)\n",
    "my_dict('setitem', key='WANG', value=21)"
   ]
  },
  {
   "cell_type": "code",
   "execution_count": 7,
   "metadata": {},
   "outputs": [
    {
     "data": {
      "text/plain": [
       "23"
      ]
     },
     "execution_count": 7,
     "metadata": {},
     "output_type": "execute_result"
    }
   ],
   "source": [
    "my_dict('getitem', key='LIU')"
   ]
  },
  {
   "cell_type": "code",
   "execution_count": 9,
   "metadata": {},
   "outputs": [],
   "source": [
    "def account(initial_balance):\n",
    "    def deposit(amount):\n",
    "        dispatch['balance'] += amount\n",
    "        return dispatch['balance']\n",
    "    def withdraw(amount):\n",
    "        if amount > dispatch['balance']:\n",
    "            return 'Insufficient funds'\n",
    "        dispatch['balance'] -= amount\n",
    "        return dispatch['balance']\n",
    "    dispatch = {'deposit': deposit,\n",
    "                'withdraw': withdraw,\n",
    "                'balance': initial_balance\n",
    "                }\n",
    "    return dispatch"
   ]
  },
  {
   "cell_type": "code",
   "execution_count": 10,
   "metadata": {},
   "outputs": [],
   "source": [
    "def withdraw(account, amount):\n",
    "    return account['withdraw'](amount)\n",
    "def deposit(account, amount):\n",
    "    return account['deposit'](amount)\n",
    "def check_balance(account):\n",
    "    return account['balance']"
   ]
  },
  {
   "cell_type": "code",
   "execution_count": 11,
   "metadata": {},
   "outputs": [
    {
     "data": {
      "text/plain": [
       "8"
      ]
     },
     "execution_count": 11,
     "metadata": {},
     "output_type": "execute_result"
    }
   ],
   "source": [
    "a = account(20)\n",
    "deposit(a, 5)\n",
    "withdraw(a, 17)\n",
    "check_balance(a)"
   ]
  },
  {
   "cell_type": "code",
   "execution_count": null,
   "metadata": {},
   "outputs": [],
   "source": [
    "def adder(a, b, c)"
   ]
  },
  {
   "cell_type": "code",
   "execution_count": null,
   "metadata": {},
   "outputs": [],
   "source": [
    "def convert(c, f):\n",
    "    '''connect c to f with constraints to convert from Celsius to Fahrenheit'''\n",
    "    u, v, w, x, y = [connector() forr _ in range 5]\n",
    "    "
   ]
  },
  {
   "cell_type": "code",
   "execution_count": null,
   "metadata": {},
   "outputs": [],
   "source": [
    "celsius = connector('Celsius')\n",
    "fahrenheit = connector('Fahrenheit')"
   ]
  }
 ],
 "metadata": {
  "kernelspec": {
   "display_name": "CS61A",
   "language": "python",
   "name": "python3"
  },
  "language_info": {
   "codemirror_mode": {
    "name": "ipython",
    "version": 3
   },
   "file_extension": ".py",
   "mimetype": "text/x-python",
   "name": "python",
   "nbconvert_exporter": "python",
   "pygments_lexer": "ipython3",
   "version": "3.7.12"
  }
 },
 "nbformat": 4,
 "nbformat_minor": 2
}
